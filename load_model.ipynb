{
 "cells": [
  {
   "cell_type": "code",
   "execution_count": 2,
   "metadata": {
    "collapsed": true
   },
   "outputs": [],
   "source": [
    "from six.moves import cPickle as pickle\n",
    "import pandas as pd\n",
    "from sklearn.utils import shuffle\n",
    "from sklearn.model_selection import train_test_split\n",
    "from tqdm import tqdm"
   ]
  },
  {
   "cell_type": "code",
   "execution_count": 22,
   "metadata": {},
   "outputs": [],
   "source": [
    "data = pd.read_csv('data/in-2017-10-11.csv')"
   ]
  },
  {
   "cell_type": "code",
   "execution_count": 23,
   "metadata": {},
   "outputs": [
    {
     "name": "stdout",
     "output_type": "stream",
     "text": [
      "Model Loaded\n"
     ]
    }
   ],
   "source": [
    "pickle_file = 'data/preprocessing.pickle'\n",
    "\n",
    "with open(pickle_file, 'rb') as f:\n",
    "    save = pickle.load(f)\n",
    "    X1_lookup = save['X1_lookup']\n",
    "    X2_mean = save['X2_mean']\n",
    "    X2_std = save['X2_std']\n",
    "    print('Model Loaded')"
   ]
  },
  {
   "cell_type": "code",
   "execution_count": 25,
   "metadata": {},
   "outputs": [],
   "source": [
    "X1_raw = data['master_id']\n",
    "X2_raw = data.drop(['master_id'], axis=1)\n",
    "\n",
    "X2 = (X2_raw - X2_mean)/X2_std\n",
    "X2 = X2.fillna(0)"
   ]
  },
  {
   "cell_type": "code",
   "execution_count": 26,
   "metadata": {},
   "outputs": [
    {
     "name": "stderr",
     "output_type": "stream",
     "text": [
      "100%|██████████| 77813/77813 [00:42<00:00, 1815.41it/s]\n"
     ]
    }
   ],
   "source": [
    "X1 = pd.DataFrame(columns=['master_idx'], index = X1_raw.index)\n",
    "\n",
    "for i in tqdm(range(len(X1_raw))):\n",
    "    if X1_raw[i] in X1_lookup:\n",
    "        X1['master_idx'][i] = X1_lookup.index(X1_raw[i])\n",
    "    else:\n",
    "        X1['master_idx'][i] = 0"
   ]
  },
  {
   "cell_type": "code",
   "execution_count": 27,
   "metadata": {},
   "outputs": [],
   "source": [
    "from keras.layers import Input, Embedding, merge\n",
    "from keras.layers.core import Dense, Dropout, Flatten\n",
    "from keras.optimizers import SGD\n",
    "from keras.callbacks import EarlyStopping, ReduceLROnPlateau, CSVLogger\n",
    "from keras.layers.normalization import BatchNormalization\n",
    "from keras.models import Model\n",
    "from keras.layers.merge import concatenate\n",
    "from sklearn.metrics import roc_auc_score\n",
    "n_masters = len(X1_lookup)\n",
    "n_factors = 50\n",
    "\n",
    "master_in = Input(shape=(1,), dtype='int64', name='master_in')\n",
    "m1 = Embedding(n_masters, n_factors, input_length=1)(master_in)\n",
    "m2 = Flatten()(m1)\n",
    "order_in = Input(shape=(12,), dtype='float32', name='order_in')\n",
    "\n",
    "x = concatenate([m2, order_in])\n",
    "x = BatchNormalization()(x)\n",
    "x = Dropout(0.3)(x)\n",
    "x = Dense(200, activation='relu')(x)\n",
    "x = BatchNormalization()(x)\n",
    "x = Dropout(0.3)(x)\n",
    "x = Dense(100, activation='relu')(x)\n",
    "x = BatchNormalization()(x)\n",
    "x = Dropout(0.3)(x)\n",
    "x = Dense(1, activation='sigmoid')(x)\n",
    "\n",
    "model = Model([master_in, order_in], x)\n",
    "model.compile(loss='binary_crossentropy', optimizer=SGD(lr=0.1), metrics=['accuracy'])"
   ]
  },
  {
   "cell_type": "code",
   "execution_count": 28,
   "metadata": {
    "collapsed": true
   },
   "outputs": [],
   "source": [
    "model.load_weights('data/model_01.h5')"
   ]
  },
  {
   "cell_type": "code",
   "execution_count": 29,
   "metadata": {},
   "outputs": [
    {
     "ename": "ValueError",
     "evalue": "Error when checking : expected order_in to have shape (None, 12) but got array with shape (77813, 13)",
     "output_type": "error",
     "traceback": [
      "\u001b[0;31m---------------------------------------------------------------------------\u001b[0m",
      "\u001b[0;31mValueError\u001b[0m                                Traceback (most recent call last)",
      "\u001b[0;32m<ipython-input-29-55a995536a70>\u001b[0m in \u001b[0;36m<module>\u001b[0;34m()\u001b[0m\n\u001b[1;32m      2\u001b[0m \u001b[0mX2\u001b[0m \u001b[0;34m=\u001b[0m \u001b[0mX2\u001b[0m\u001b[0;34m.\u001b[0m\u001b[0mas_matrix\u001b[0m\u001b[0;34m(\u001b[0m\u001b[0;34m)\u001b[0m\u001b[0;34m\u001b[0m\u001b[0m\n\u001b[1;32m      3\u001b[0m \u001b[0;34m\u001b[0m\u001b[0m\n\u001b[0;32m----> 4\u001b[0;31m \u001b[0my_pred\u001b[0m \u001b[0;34m=\u001b[0m \u001b[0mmodel\u001b[0m\u001b[0;34m.\u001b[0m\u001b[0mpredict\u001b[0m\u001b[0;34m(\u001b[0m\u001b[0;34m[\u001b[0m\u001b[0mX1\u001b[0m\u001b[0;34m,\u001b[0m \u001b[0mX2\u001b[0m\u001b[0;34m]\u001b[0m\u001b[0;34m)\u001b[0m\u001b[0;34m\u001b[0m\u001b[0m\n\u001b[0m",
      "\u001b[0;32m/Users/gapon/anaconda3/lib/python3.5/site-packages/keras/engine/training.py\u001b[0m in \u001b[0;36mpredict\u001b[0;34m(self, x, batch_size, verbose)\u001b[0m\n\u001b[1;32m   1574\u001b[0m         x = _standardize_input_data(x, self._feed_input_names,\n\u001b[1;32m   1575\u001b[0m                                     \u001b[0mself\u001b[0m\u001b[0;34m.\u001b[0m\u001b[0m_feed_input_shapes\u001b[0m\u001b[0;34m,\u001b[0m\u001b[0;34m\u001b[0m\u001b[0m\n\u001b[0;32m-> 1576\u001b[0;31m                                     check_batch_axis=False)\n\u001b[0m\u001b[1;32m   1577\u001b[0m         \u001b[0;32mif\u001b[0m \u001b[0mself\u001b[0m\u001b[0;34m.\u001b[0m\u001b[0mstateful\u001b[0m\u001b[0;34m:\u001b[0m\u001b[0;34m\u001b[0m\u001b[0m\n\u001b[1;32m   1578\u001b[0m             \u001b[0;32mif\u001b[0m \u001b[0mx\u001b[0m\u001b[0;34m[\u001b[0m\u001b[0;36m0\u001b[0m\u001b[0;34m]\u001b[0m\u001b[0;34m.\u001b[0m\u001b[0mshape\u001b[0m\u001b[0;34m[\u001b[0m\u001b[0;36m0\u001b[0m\u001b[0;34m]\u001b[0m \u001b[0;34m>\u001b[0m \u001b[0mbatch_size\u001b[0m \u001b[0;32mand\u001b[0m \u001b[0mx\u001b[0m\u001b[0;34m[\u001b[0m\u001b[0;36m0\u001b[0m\u001b[0;34m]\u001b[0m\u001b[0;34m.\u001b[0m\u001b[0mshape\u001b[0m\u001b[0;34m[\u001b[0m\u001b[0;36m0\u001b[0m\u001b[0;34m]\u001b[0m \u001b[0;34m%\u001b[0m \u001b[0mbatch_size\u001b[0m \u001b[0;34m!=\u001b[0m \u001b[0;36m0\u001b[0m\u001b[0;34m:\u001b[0m\u001b[0;34m\u001b[0m\u001b[0m\n",
      "\u001b[0;32m/Users/gapon/anaconda3/lib/python3.5/site-packages/keras/engine/training.py\u001b[0m in \u001b[0;36m_standardize_input_data\u001b[0;34m(data, names, shapes, check_batch_axis, exception_prefix)\u001b[0m\n\u001b[1;32m    137\u001b[0m                             \u001b[0;34m' to have shape '\u001b[0m \u001b[0;34m+\u001b[0m \u001b[0mstr\u001b[0m\u001b[0;34m(\u001b[0m\u001b[0mshapes\u001b[0m\u001b[0;34m[\u001b[0m\u001b[0mi\u001b[0m\u001b[0;34m]\u001b[0m\u001b[0;34m)\u001b[0m \u001b[0;34m+\u001b[0m\u001b[0;34m\u001b[0m\u001b[0m\n\u001b[1;32m    138\u001b[0m                             \u001b[0;34m' but got array with shape '\u001b[0m \u001b[0;34m+\u001b[0m\u001b[0;34m\u001b[0m\u001b[0m\n\u001b[0;32m--> 139\u001b[0;31m                             str(array.shape))\n\u001b[0m\u001b[1;32m    140\u001b[0m     \u001b[0;32mreturn\u001b[0m \u001b[0marrays\u001b[0m\u001b[0;34m\u001b[0m\u001b[0m\n\u001b[1;32m    141\u001b[0m \u001b[0;34m\u001b[0m\u001b[0m\n",
      "\u001b[0;31mValueError\u001b[0m: Error when checking : expected order_in to have shape (None, 12) but got array with shape (77813, 13)"
     ]
    }
   ],
   "source": [
    "X1 = X1.as_matrix()\n",
    "X2 = X2.as_matrix()\n",
    "\n",
    "y_pred = model.predict([X1, X2])"
   ]
  },
  {
   "cell_type": "code",
   "execution_count": 21,
   "metadata": {},
   "outputs": [
    {
     "data": {
      "text/plain": [
       "array([[ 0.51477754],\n",
       "       [ 0.52960706],\n",
       "       [ 0.50997615],\n",
       "       [ 0.48450628],\n",
       "       [ 0.4031713 ],\n",
       "       [ 0.77555501],\n",
       "       [ 0.42649108],\n",
       "       [ 0.35156983],\n",
       "       [ 0.39891058],\n",
       "       [ 0.8020969 ],\n",
       "       [ 0.79594707],\n",
       "       [ 0.66114855],\n",
       "       [ 0.52950144],\n",
       "       [ 0.76292104],\n",
       "       [ 0.5039283 ],\n",
       "       [ 0.53319186],\n",
       "       [ 0.62876862],\n",
       "       [ 0.75524354],\n",
       "       [ 0.46127051],\n",
       "       [ 0.24147557],\n",
       "       [ 0.64058518],\n",
       "       [ 0.45217055],\n",
       "       [ 0.55702049],\n",
       "       [ 0.32888082],\n",
       "       [ 0.75662738],\n",
       "       [ 0.17107491],\n",
       "       [ 0.26774871],\n",
       "       [ 0.44999844],\n",
       "       [ 0.66588491],\n",
       "       [ 0.68139756],\n",
       "       [ 0.61514884],\n",
       "       [ 0.49812728],\n",
       "       [ 0.77845073],\n",
       "       [ 0.51126784],\n",
       "       [ 0.3674745 ],\n",
       "       [ 0.39409909],\n",
       "       [ 0.39958954],\n",
       "       [ 0.69923788],\n",
       "       [ 0.49586311],\n",
       "       [ 0.83687037],\n",
       "       [ 0.40976399],\n",
       "       [ 0.69510978],\n",
       "       [ 0.39164793],\n",
       "       [ 0.78712583],\n",
       "       [ 0.27155   ],\n",
       "       [ 0.47980449],\n",
       "       [ 0.79178774],\n",
       "       [ 0.71538371],\n",
       "       [ 0.48339668],\n",
       "       [ 0.52686369],\n",
       "       [ 0.45019817],\n",
       "       [ 0.37063009],\n",
       "       [ 0.36308473]], dtype=float32)"
      ]
     },
     "execution_count": 21,
     "metadata": {},
     "output_type": "execute_result"
    }
   ],
   "source": [
    "y_pred"
   ]
  },
  {
   "cell_type": "code",
   "execution_count": null,
   "metadata": {
    "collapsed": true
   },
   "outputs": [],
   "source": []
  }
 ],
 "metadata": {
  "kernelspec": {
   "display_name": "Python 3",
   "language": "python",
   "name": "python3"
  },
  "language_info": {
   "codemirror_mode": {
    "name": "ipython",
    "version": 3
   },
   "file_extension": ".py",
   "mimetype": "text/x-python",
   "name": "python",
   "nbconvert_exporter": "python",
   "pygments_lexer": "ipython3",
   "version": "3.5.3"
  }
 },
 "nbformat": 4,
 "nbformat_minor": 2
}
