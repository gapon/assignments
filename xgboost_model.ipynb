{
 "cells": [
  {
   "cell_type": "code",
   "execution_count": 29,
   "metadata": {
    "scrolled": true
   },
   "outputs": [
    {
     "name": "stdout",
     "output_type": "stream",
     "text": [
      "<class 'pandas.core.frame.DataFrame'>\n",
      "RangeIndex: 20545 entries, 0 to 20544\n",
      "Data columns (total 23 columns):\n",
      "rooms              20545 non-null int64\n",
      "order_type         20545 non-null int64\n",
      "days_to_cln        20545 non-null int64\n",
      "total_time         20545 non-null float64\n",
      "commission         20545 non-null float64\n",
      "target             20545 non-null int64\n",
      "work_proba         20545 non-null float64\n",
      "cancel_proba       20545 non-null float64\n",
      "order_id           20545 non-null int64\n",
      "master_id          20545 non-null int64\n",
      "rooms_0_cnt        20545 non-null int64\n",
      "rooms_1_cnt        20545 non-null int64\n",
      "rooms_2_cnt        20545 non-null int64\n",
      "rooms_3_cnt        20545 non-null int64\n",
      "rooms_4_cnt        20545 non-null int64\n",
      "rooms_0_shr        20545 non-null float64\n",
      "rooms_1_shr        20545 non-null float64\n",
      "rooms_2_shr        20545 non-null float64\n",
      "rooms_3_shr        20545 non-null float64\n",
      "rooms_4_shr        20545 non-null float64\n",
      "lite_shr           20545 non-null float64\n",
      "avg_total_time     20545 non-null float64\n",
      "avg_days_to_cln    20545 non-null float64\n",
      "dtypes: float64(12), int64(11)\n",
      "memory usage: 3.6 MB\n",
      "None\n"
     ]
    }
   ],
   "source": [
    "# https://jessesw.com/XG-Boost/\n",
    "# https://www.dataiku.com/learn/guide/code/python/advanced-xgboost-tuning.html Using Sparce Matrix\n",
    "import xgboost as xgb\n",
    "import pandas as pd\n",
    "from sklearn.grid_search import GridSearchCV\n",
    "from sklearn.model_selection import KFold\n",
    "from sklearn.metrics import roc_auc_score\n",
    "\n",
    "\n",
    "# train data\n",
    "data = pd.read_csv('data/train.csv', header = 0)\n",
    "data = data.fillna(-1)\n",
    "print(data.info())\n",
    "X = data.drop(['order_id','master_id', 'target', 'cancel_proba'], axis=1)\n",
    "y = data['target']\n",
    "\n",
    "folds = 5\n",
    "kf = KFold(folds, shuffle = True, random_state = 42)\n",
    "\n",
    "#for train_index, test_index in kf.split(X):\n",
    "#    print(\"TRAIN:\", train_index, \"TEST:\", test_index)\n",
    "#    X_train, X_val = X.iloc[train_index], X.iloc[test_index]\n",
    "#    y_train, y_val = y[train_index], y[test_index]\n",
    "\n",
    "\n",
    "train_indeces, val_indeces = next(kf.split(y))\n",
    "\n",
    "X_train, y_train = X.iloc[train_indeces], y[train_indeces]\n",
    "X_val, y_val = X.iloc[val_indeces], y[val_indeces]\n",
    "\n",
    "dtrain = xgb.DMatrix(X_train, label=y_train)\n",
    "dval = xgb.DMatrix(X_val, label=y_val)\n",
    "# del(data, X, y)\n",
    "\n",
    "# test data\n",
    "test_data = pd.read_csv('data/test.csv', header = 0)\n",
    "X_test = test_data.drop(['order_id','master_id', 'target', 'cancel_proba'], axis=1)\n",
    "y_test = test_data['target']\n",
    "dtest = xgb.DMatrix(X_test, label=y_test)\n",
    "\n",
    "#print(y_test)\n",
    "#del(test_data, X_test, y_test)"
   ]
  },
  {
   "cell_type": "markdown",
   "metadata": {},
   "source": [
    "# Grid Search"
   ]
  },
  {
   "cell_type": "code",
   "execution_count": 23,
   "metadata": {
    "collapsed": true
   },
   "outputs": [],
   "source": [
    "cv_params = {\n",
    "    'max_depth': [3, 4, 5, 6, 7],\n",
    "    'learning_rate': [0.01, 0.1, 0.3]\n",
    "    #'min_child_weight': [1,3]\n",
    "}\n",
    "# ind_params = {'objective': 'binary:logistic', 'n_estimators': 100}\n",
    "ind_params = {\n",
    "    'learning_rate': 0.1,\n",
    "    'n_estimators': 1000,\n",
    "    'seed':0,\n",
    "    'subsample': 0.8,\n",
    "    'colsample_bytree': 0.8,\n",
    "    'objective': 'binary:logistic'}\n",
    "\n",
    "\n",
    "optimized_GBM = GridSearchCV(xgb.XGBClassifier(**ind_params), cv_params, scoring = 'roc_auc', cv = 3, n_jobs = 1) \n",
    "# Optimize for accuracy since that is the metric used in the Adult Data Set notation"
   ]
  },
  {
   "cell_type": "code",
   "execution_count": 24,
   "metadata": {},
   "outputs": [
    {
     "name": "stdout",
     "output_type": "stream",
     "text": [
      "CPU times: user 12min 20s, sys: 1min 9s, total: 13min 30s\n",
      "Wall time: 4min 42s\n"
     ]
    },
    {
     "data": {
      "text/plain": [
       "GridSearchCV(cv=3, error_score='raise',\n",
       "       estimator=XGBClassifier(base_score=0.5, colsample_bylevel=1, colsample_bytree=0.8,\n",
       "       gamma=0, learning_rate=0.1, max_delta_step=0, max_depth=3,\n",
       "       min_child_weight=1, missing=None, n_estimators=1000, nthread=-1,\n",
       "       objective='binary:logistic', reg_alpha=0, reg_lambda=1,\n",
       "       scale_pos_weight=1, seed=0, silent=True, subsample=0.8),\n",
       "       fit_params={}, iid=True, n_jobs=1,\n",
       "       param_grid={'max_depth': [3, 4, 5, 6, 7], 'learning_rate': [0.01, 0.1, 0.3]},\n",
       "       pre_dispatch='2*n_jobs', refit=True, scoring='roc_auc', verbose=0)"
      ]
     },
     "execution_count": 24,
     "metadata": {},
     "output_type": "execute_result"
    }
   ],
   "source": [
    "%%time\n",
    "optimized_GBM.fit(X, y)"
   ]
  },
  {
   "cell_type": "code",
   "execution_count": 25,
   "metadata": {},
   "outputs": [
    {
     "data": {
      "text/plain": [
       "[mean: 0.64214, std: 0.02080, params: {'max_depth': 3, 'learning_rate': 0.01},\n",
       " mean: 0.64097, std: 0.02016, params: {'max_depth': 4, 'learning_rate': 0.01},\n",
       " mean: 0.63887, std: 0.02054, params: {'max_depth': 5, 'learning_rate': 0.01},\n",
       " mean: 0.63588, std: 0.02066, params: {'max_depth': 6, 'learning_rate': 0.01},\n",
       " mean: 0.63239, std: 0.02152, params: {'max_depth': 7, 'learning_rate': 0.01},\n",
       " mean: 0.62454, std: 0.01919, params: {'max_depth': 3, 'learning_rate': 0.1},\n",
       " mean: 0.61527, std: 0.01807, params: {'max_depth': 4, 'learning_rate': 0.1},\n",
       " mean: 0.60275, std: 0.01491, params: {'max_depth': 5, 'learning_rate': 0.1},\n",
       " mean: 0.60484, std: 0.01429, params: {'max_depth': 6, 'learning_rate': 0.1},\n",
       " mean: 0.59732, std: 0.01333, params: {'max_depth': 7, 'learning_rate': 0.1},\n",
       " mean: 0.59827, std: 0.01456, params: {'max_depth': 3, 'learning_rate': 0.3},\n",
       " mean: 0.59412, std: 0.01350, params: {'max_depth': 4, 'learning_rate': 0.3},\n",
       " mean: 0.58760, std: 0.01362, params: {'max_depth': 5, 'learning_rate': 0.3},\n",
       " mean: 0.58395, std: 0.01146, params: {'max_depth': 6, 'learning_rate': 0.3},\n",
       " mean: 0.58338, std: 0.01087, params: {'max_depth': 7, 'learning_rate': 0.3}]"
      ]
     },
     "execution_count": 25,
     "metadata": {},
     "output_type": "execute_result"
    }
   ],
   "source": [
    "optimized_GBM.grid_scores_"
   ]
  },
  {
   "cell_type": "code",
   "execution_count": 26,
   "metadata": {},
   "outputs": [
    {
     "name": "stdout",
     "output_type": "stream",
     "text": [
      "0.608460392569\n"
     ]
    }
   ],
   "source": [
    "y_pred = optimized_GBM.predict(X_test)\n",
    "print(roc_auc_score(y_test, y_pred))"
   ]
  },
  {
   "cell_type": "markdown",
   "metadata": {},
   "source": [
    "# Early Stopping"
   ]
  },
  {
   "cell_type": "code",
   "execution_count": 31,
   "metadata": {},
   "outputs": [
    {
     "name": "stdout",
     "output_type": "stream",
     "text": [
      "[0]\ttrain-auc:0.574547\teval-auc:0.55759\n",
      "Multiple eval metrics have been passed: 'eval-auc' will be used for early stopping.\n",
      "\n",
      "Will train until eval-auc hasn't improved in 10 rounds.\n",
      "[1]\ttrain-auc:0.576938\teval-auc:0.560007\n",
      "[2]\ttrain-auc:0.591223\teval-auc:0.567242\n",
      "[3]\ttrain-auc:0.596315\teval-auc:0.568823\n",
      "[4]\ttrain-auc:0.598578\teval-auc:0.573906\n",
      "[5]\ttrain-auc:0.599703\teval-auc:0.575722\n",
      "[6]\ttrain-auc:0.60508\teval-auc:0.579852\n",
      "[7]\ttrain-auc:0.607194\teval-auc:0.578282\n",
      "[8]\ttrain-auc:0.611097\teval-auc:0.584818\n",
      "[9]\ttrain-auc:0.61399\teval-auc:0.586465\n",
      "[10]\ttrain-auc:0.616103\teval-auc:0.588437\n",
      "[11]\ttrain-auc:0.619196\teval-auc:0.59274\n",
      "[12]\ttrain-auc:0.620758\teval-auc:0.593385\n",
      "[13]\ttrain-auc:0.621276\teval-auc:0.595108\n",
      "[14]\ttrain-auc:0.623348\teval-auc:0.598124\n",
      "[15]\ttrain-auc:0.625302\teval-auc:0.5994\n",
      "[16]\ttrain-auc:0.626528\teval-auc:0.600266\n",
      "[17]\ttrain-auc:0.627746\teval-auc:0.601711\n",
      "[18]\ttrain-auc:0.6286\teval-auc:0.601681\n",
      "[19]\ttrain-auc:0.629073\teval-auc:0.601437\n",
      "[20]\ttrain-auc:0.629495\teval-auc:0.601239\n",
      "[21]\ttrain-auc:0.630599\teval-auc:0.602401\n",
      "[22]\ttrain-auc:0.631047\teval-auc:0.602125\n",
      "[23]\ttrain-auc:0.63191\teval-auc:0.602816\n",
      "[24]\ttrain-auc:0.632602\teval-auc:0.603491\n",
      "[25]\ttrain-auc:0.633134\teval-auc:0.603795\n",
      "[26]\ttrain-auc:0.63367\teval-auc:0.603952\n",
      "[27]\ttrain-auc:0.634536\teval-auc:0.605101\n",
      "[28]\ttrain-auc:0.635249\teval-auc:0.605857\n",
      "[29]\ttrain-auc:0.635633\teval-auc:0.606488\n",
      "[30]\ttrain-auc:0.638175\teval-auc:0.608673\n",
      "[31]\ttrain-auc:0.63897\teval-auc:0.609429\n",
      "[32]\ttrain-auc:0.639073\teval-auc:0.6092\n",
      "[33]\ttrain-auc:0.639289\teval-auc:0.608982\n",
      "[34]\ttrain-auc:0.640336\teval-auc:0.608956\n",
      "[35]\ttrain-auc:0.640467\teval-auc:0.609003\n",
      "[36]\ttrain-auc:0.640618\teval-auc:0.608948\n",
      "[37]\ttrain-auc:0.642598\teval-auc:0.611169\n",
      "[38]\ttrain-auc:0.643323\teval-auc:0.612042\n",
      "[39]\ttrain-auc:0.643879\teval-auc:0.612265\n",
      "[40]\ttrain-auc:0.644414\teval-auc:0.612177\n",
      "[41]\ttrain-auc:0.64425\teval-auc:0.611586\n",
      "[42]\ttrain-auc:0.644344\teval-auc:0.611882\n",
      "[43]\ttrain-auc:0.644641\teval-auc:0.612025\n",
      "[44]\ttrain-auc:0.644761\teval-auc:0.612035\n",
      "[45]\ttrain-auc:0.646099\teval-auc:0.612754\n",
      "[46]\ttrain-auc:0.646609\teval-auc:0.612718\n",
      "[47]\ttrain-auc:0.647025\teval-auc:0.61327\n",
      "[48]\ttrain-auc:0.648013\teval-auc:0.61455\n",
      "[49]\ttrain-auc:0.648325\teval-auc:0.614491\n",
      "[50]\ttrain-auc:0.648841\teval-auc:0.614244\n",
      "[51]\ttrain-auc:0.649442\teval-auc:0.614458\n",
      "[52]\ttrain-auc:0.6497\teval-auc:0.614496\n",
      "[53]\ttrain-auc:0.649849\teval-auc:0.614666\n",
      "[54]\ttrain-auc:0.650668\teval-auc:0.614937\n",
      "[55]\ttrain-auc:0.650647\teval-auc:0.614966\n",
      "[56]\ttrain-auc:0.650981\teval-auc:0.615003\n",
      "[57]\ttrain-auc:0.651722\teval-auc:0.615981\n",
      "[58]\ttrain-auc:0.651889\teval-auc:0.615488\n",
      "[59]\ttrain-auc:0.65205\teval-auc:0.615467\n",
      "[60]\ttrain-auc:0.652682\teval-auc:0.615936\n",
      "[61]\ttrain-auc:0.652747\teval-auc:0.615885\n",
      "[62]\ttrain-auc:0.653153\teval-auc:0.616256\n",
      "[63]\ttrain-auc:0.653496\teval-auc:0.616507\n",
      "[64]\ttrain-auc:0.653855\teval-auc:0.61664\n",
      "[65]\ttrain-auc:0.653945\teval-auc:0.616895\n",
      "[66]\ttrain-auc:0.653807\teval-auc:0.616603\n",
      "[67]\ttrain-auc:0.654024\teval-auc:0.616611\n",
      "[68]\ttrain-auc:0.654101\teval-auc:0.616734\n",
      "[69]\ttrain-auc:0.654076\teval-auc:0.616718\n",
      "[70]\ttrain-auc:0.654441\teval-auc:0.616757\n",
      "[71]\ttrain-auc:0.654478\teval-auc:0.616715\n",
      "[72]\ttrain-auc:0.654701\teval-auc:0.616821\n",
      "[73]\ttrain-auc:0.655454\teval-auc:0.617451\n",
      "[74]\ttrain-auc:0.655934\teval-auc:0.617455\n",
      "[75]\ttrain-auc:0.656023\teval-auc:0.617298\n",
      "[76]\ttrain-auc:0.656535\teval-auc:0.617173\n",
      "[77]\ttrain-auc:0.657136\teval-auc:0.617902\n",
      "[78]\ttrain-auc:0.657455\teval-auc:0.618041\n",
      "[79]\ttrain-auc:0.657534\teval-auc:0.618283\n",
      "[80]\ttrain-auc:0.657567\teval-auc:0.618274\n",
      "[81]\ttrain-auc:0.658092\teval-auc:0.61874\n",
      "[82]\ttrain-auc:0.658419\teval-auc:0.61886\n",
      "[83]\ttrain-auc:0.658722\teval-auc:0.618779\n",
      "[84]\ttrain-auc:0.659382\teval-auc:0.618952\n",
      "[85]\ttrain-auc:0.659647\teval-auc:0.618932\n",
      "[86]\ttrain-auc:0.659717\teval-auc:0.618857\n",
      "[87]\ttrain-auc:0.66016\teval-auc:0.619209\n",
      "[88]\ttrain-auc:0.660199\teval-auc:0.619169\n",
      "[89]\ttrain-auc:0.660303\teval-auc:0.619219\n",
      "[90]\ttrain-auc:0.660512\teval-auc:0.61941\n",
      "[91]\ttrain-auc:0.660806\teval-auc:0.619609\n",
      "[92]\ttrain-auc:0.661354\teval-auc:0.619673\n",
      "[93]\ttrain-auc:0.661706\teval-auc:0.619383\n",
      "[94]\ttrain-auc:0.662093\teval-auc:0.619473\n",
      "[95]\ttrain-auc:0.662108\teval-auc:0.619456\n",
      "[96]\ttrain-auc:0.662747\teval-auc:0.619841\n",
      "[97]\ttrain-auc:0.662953\teval-auc:0.620001\n",
      "[98]\ttrain-auc:0.663037\teval-auc:0.620004\n",
      "[99]\ttrain-auc:0.663627\teval-auc:0.620364\n",
      "[100]\ttrain-auc:0.663882\teval-auc:0.619972\n",
      "[101]\ttrain-auc:0.66393\teval-auc:0.619952\n",
      "[102]\ttrain-auc:0.664113\teval-auc:0.619955\n",
      "[103]\ttrain-auc:0.664294\teval-auc:0.619867\n",
      "[104]\ttrain-auc:0.66431\teval-auc:0.619855\n",
      "[105]\ttrain-auc:0.664557\teval-auc:0.619974\n",
      "[106]\ttrain-auc:0.665355\teval-auc:0.62061\n",
      "[107]\ttrain-auc:0.665482\teval-auc:0.620726\n",
      "[108]\ttrain-auc:0.665987\teval-auc:0.62074\n",
      "[109]\ttrain-auc:0.666063\teval-auc:0.62073\n",
      "[110]\ttrain-auc:0.66629\teval-auc:0.620702\n",
      "[111]\ttrain-auc:0.666475\teval-auc:0.620762\n",
      "[112]\ttrain-auc:0.666818\teval-auc:0.620634\n",
      "[113]\ttrain-auc:0.666985\teval-auc:0.620196\n",
      "[114]\ttrain-auc:0.667051\teval-auc:0.620177\n",
      "[115]\ttrain-auc:0.667236\teval-auc:0.62014\n",
      "[116]\ttrain-auc:0.667588\teval-auc:0.6204\n",
      "[117]\ttrain-auc:0.667977\teval-auc:0.620246\n",
      "[118]\ttrain-auc:0.668125\teval-auc:0.62034\n",
      "[119]\ttrain-auc:0.668166\teval-auc:0.620373\n",
      "[120]\ttrain-auc:0.66836\teval-auc:0.620584\n",
      "[121]\ttrain-auc:0.668729\teval-auc:0.620766\n",
      "[122]\ttrain-auc:0.668689\teval-auc:0.620685\n",
      "[123]\ttrain-auc:0.668969\teval-auc:0.620804\n",
      "[124]\ttrain-auc:0.669272\teval-auc:0.620886\n",
      "[125]\ttrain-auc:0.669321\teval-auc:0.620863\n",
      "[126]\ttrain-auc:0.669494\teval-auc:0.620931\n",
      "[127]\ttrain-auc:0.669582\teval-auc:0.620925\n",
      "[128]\ttrain-auc:0.669792\teval-auc:0.620878\n",
      "[129]\ttrain-auc:0.670264\teval-auc:0.621101\n",
      "[130]\ttrain-auc:0.670417\teval-auc:0.620933\n",
      "[131]\ttrain-auc:0.670489\teval-auc:0.620829\n",
      "[132]\ttrain-auc:0.670683\teval-auc:0.620737\n",
      "[133]\ttrain-auc:0.670974\teval-auc:0.620737\n",
      "[134]\ttrain-auc:0.671513\teval-auc:0.621298\n",
      "[135]\ttrain-auc:0.672074\teval-auc:0.621062\n",
      "[136]\ttrain-auc:0.672448\teval-auc:0.620907\n",
      "[137]\ttrain-auc:0.67245\teval-auc:0.620891\n",
      "[138]\ttrain-auc:0.673105\teval-auc:0.621577\n",
      "[139]\ttrain-auc:0.673585\teval-auc:0.621992\n",
      "[140]\ttrain-auc:0.674081\teval-auc:0.622028\n",
      "[141]\ttrain-auc:0.674426\teval-auc:0.622158\n",
      "[142]\ttrain-auc:0.674709\teval-auc:0.622233\n",
      "[143]\ttrain-auc:0.674794\teval-auc:0.622094\n",
      "[144]\ttrain-auc:0.674867\teval-auc:0.622131\n",
      "[145]\ttrain-auc:0.674944\teval-auc:0.622063\n",
      "[146]\ttrain-auc:0.67523\teval-auc:0.621927\n",
      "[147]\ttrain-auc:0.675492\teval-auc:0.622004\n",
      "[148]\ttrain-auc:0.675837\teval-auc:0.622011\n",
      "[149]\ttrain-auc:0.675875\teval-auc:0.622047\n",
      "[150]\ttrain-auc:0.676078\teval-auc:0.622212\n",
      "[151]\ttrain-auc:0.676178\teval-auc:0.622309\n",
      "[152]\ttrain-auc:0.676695\teval-auc:0.622436\n",
      "[153]\ttrain-auc:0.676984\teval-auc:0.62248\n",
      "[154]\ttrain-auc:0.677035\teval-auc:0.622471\n",
      "[155]\ttrain-auc:0.677496\teval-auc:0.622536\n",
      "[156]\ttrain-auc:0.677737\teval-auc:0.62261\n",
      "[157]\ttrain-auc:0.678108\teval-auc:0.622744\n",
      "[158]\ttrain-auc:0.678529\teval-auc:0.622975\n",
      "[159]\ttrain-auc:0.678498\teval-auc:0.62298\n",
      "[160]\ttrain-auc:0.678662\teval-auc:0.623001\n",
      "[161]\ttrain-auc:0.678668\teval-auc:0.622989\n",
      "[162]\ttrain-auc:0.678993\teval-auc:0.623132\n",
      "[163]\ttrain-auc:0.679112\teval-auc:0.623366\n",
      "[164]\ttrain-auc:0.679281\teval-auc:0.623465\n",
      "[165]\ttrain-auc:0.679353\teval-auc:0.62343\n",
      "[166]\ttrain-auc:0.679495\teval-auc:0.623428\n",
      "[167]\ttrain-auc:0.679658\teval-auc:0.623608\n",
      "[168]\ttrain-auc:0.679817\teval-auc:0.623553\n",
      "[169]\ttrain-auc:0.680047\teval-auc:0.62376\n",
      "[170]\ttrain-auc:0.680131\teval-auc:0.623766\n",
      "[171]\ttrain-auc:0.680169\teval-auc:0.623783\n",
      "[172]\ttrain-auc:0.680425\teval-auc:0.624097\n",
      "[173]\ttrain-auc:0.680627\teval-auc:0.623965\n",
      "[174]\ttrain-auc:0.680795\teval-auc:0.623996\n",
      "[175]\ttrain-auc:0.681003\teval-auc:0.623986\n",
      "[176]\ttrain-auc:0.681356\teval-auc:0.62414\n",
      "[177]\ttrain-auc:0.681459\teval-auc:0.624218\n",
      "[178]\ttrain-auc:0.681943\teval-auc:0.62427\n",
      "[179]\ttrain-auc:0.681982\teval-auc:0.624267\n",
      "[180]\ttrain-auc:0.682333\teval-auc:0.62425\n",
      "[181]\ttrain-auc:0.682684\teval-auc:0.624399\n",
      "[182]\ttrain-auc:0.68293\teval-auc:0.624317\n",
      "[183]\ttrain-auc:0.683229\teval-auc:0.624317\n",
      "[184]\ttrain-auc:0.683316\teval-auc:0.624328\n",
      "[185]\ttrain-auc:0.683474\teval-auc:0.624198\n",
      "[186]\ttrain-auc:0.683501\teval-auc:0.624226\n",
      "[187]\ttrain-auc:0.683775\teval-auc:0.624082\n",
      "[188]\ttrain-auc:0.684222\teval-auc:0.624138\n",
      "[189]\ttrain-auc:0.684335\teval-auc:0.624252\n",
      "[190]\ttrain-auc:0.684451\teval-auc:0.624363\n"
     ]
    },
    {
     "name": "stdout",
     "output_type": "stream",
     "text": [
      "[191]\ttrain-auc:0.684759\teval-auc:0.624602\n",
      "[192]\ttrain-auc:0.684805\teval-auc:0.624534\n",
      "[193]\ttrain-auc:0.68507\teval-auc:0.62463\n",
      "[194]\ttrain-auc:0.685465\teval-auc:0.62462\n",
      "[195]\ttrain-auc:0.6859\teval-auc:0.624691\n",
      "[196]\ttrain-auc:0.685917\teval-auc:0.624695\n",
      "[197]\ttrain-auc:0.686079\teval-auc:0.624854\n",
      "[198]\ttrain-auc:0.686089\teval-auc:0.624705\n",
      "[199]\ttrain-auc:0.686459\teval-auc:0.624939\n",
      "[200]\ttrain-auc:0.686639\teval-auc:0.624877\n",
      "[201]\ttrain-auc:0.686759\teval-auc:0.624808\n",
      "[202]\ttrain-auc:0.686786\teval-auc:0.624806\n",
      "[203]\ttrain-auc:0.686905\teval-auc:0.624798\n",
      "[204]\ttrain-auc:0.686908\teval-auc:0.624789\n",
      "[205]\ttrain-auc:0.686912\teval-auc:0.624784\n",
      "[206]\ttrain-auc:0.687223\teval-auc:0.625019\n",
      "[207]\ttrain-auc:0.687742\teval-auc:0.625014\n",
      "[208]\ttrain-auc:0.687917\teval-auc:0.625273\n",
      "[209]\ttrain-auc:0.687927\teval-auc:0.625268\n",
      "[210]\ttrain-auc:0.688043\teval-auc:0.625329\n",
      "[211]\ttrain-auc:0.688156\teval-auc:0.625349\n",
      "[212]\ttrain-auc:0.688333\teval-auc:0.625473\n",
      "[213]\ttrain-auc:0.688368\teval-auc:0.625467\n",
      "[214]\ttrain-auc:0.688493\teval-auc:0.625438\n",
      "[215]\ttrain-auc:0.688642\teval-auc:0.625615\n",
      "[216]\ttrain-auc:0.688919\teval-auc:0.625413\n",
      "[217]\ttrain-auc:0.689101\teval-auc:0.625491\n",
      "[218]\ttrain-auc:0.689464\teval-auc:0.625381\n",
      "[219]\ttrain-auc:0.689731\teval-auc:0.625362\n",
      "[220]\ttrain-auc:0.689965\teval-auc:0.625702\n",
      "[221]\ttrain-auc:0.690084\teval-auc:0.625663\n",
      "[222]\ttrain-auc:0.690536\teval-auc:0.625857\n",
      "[223]\ttrain-auc:0.690783\teval-auc:0.625901\n",
      "[224]\ttrain-auc:0.690908\teval-auc:0.626052\n",
      "[225]\ttrain-auc:0.690993\teval-auc:0.625993\n",
      "[226]\ttrain-auc:0.69122\teval-auc:0.626113\n",
      "[227]\ttrain-auc:0.691486\teval-auc:0.625959\n",
      "[228]\ttrain-auc:0.691587\teval-auc:0.626115\n",
      "[229]\ttrain-auc:0.691996\teval-auc:0.625875\n",
      "[230]\ttrain-auc:0.69209\teval-auc:0.625758\n",
      "[231]\ttrain-auc:0.692277\teval-auc:0.625703\n",
      "[232]\ttrain-auc:0.692633\teval-auc:0.625771\n",
      "[233]\ttrain-auc:0.693019\teval-auc:0.62577\n",
      "[234]\ttrain-auc:0.693287\teval-auc:0.625892\n",
      "[235]\ttrain-auc:0.693551\teval-auc:0.62603\n",
      "[236]\ttrain-auc:0.693582\teval-auc:0.626032\n",
      "[237]\ttrain-auc:0.693822\teval-auc:0.626083\n",
      "[238]\ttrain-auc:0.694051\teval-auc:0.625805\n",
      "Stopping. Best iteration:\n",
      "[228]\ttrain-auc:0.691587\teval-auc:0.626115\n",
      "\n",
      "0.596690780335\n"
     ]
    }
   ],
   "source": [
    "# specify parameters via map\n",
    "param = {'max_depth':3, 'eta':0.1, 'silent':0, 'objective':'binary:logistic' }\n",
    "param['eval_metric'] = 'auc'\n",
    "evallist  = [(dtrain,'train'), (dval,'eval')]\n",
    "num_round = 300\n",
    "\n",
    "bst = xgb.train(param, dtrain, num_round, evallist, early_stopping_rounds=10)\n",
    "# make prediction\n",
    "preds = bst.predict(dtest)\n",
    "\n",
    "print(roc_auc_score(y_test, preds))"
   ]
  },
  {
   "cell_type": "code",
   "execution_count": 28,
   "metadata": {},
   "outputs": [
    {
     "data": {
      "text/plain": [
       "<matplotlib.axes._subplots.AxesSubplot at 0x11ae48d30>"
      ]
     },
     "execution_count": 28,
     "metadata": {},
     "output_type": "execute_result"
    },
    {
     "data": {
      "image/png": "[encoded data removed]",
      "text/plain": [
       "<matplotlib.figure.Figure at 0x11f43d160>"
      ]
     },
     "metadata": {},
     "output_type": "display_data"
    }
   ],
   "source": [
    "import matplotlib\n",
    "import matplotlib.pyplot as plt\n",
    "%matplotlib inline\n",
    "\n",
    "width = 20\n",
    "height = 20\n",
    "#plt.figure(figsize=(width, height))\n",
    "fig, ax = plt.subplots(figsize=(10, 10))\n",
    "xgb.plot_importance(bst, ax=ax)\n"
   ]
  },
  {
   "cell_type": "code",
   "execution_count": null,
   "metadata": {
    "collapsed": true
   },
   "outputs": [],
   "source": []
  }
 ],
 "metadata": {
  "kernelspec": {
   "display_name": "Python 3",
   "language": "python",
   "name": "python3"
  },
  "language_info": {
   "codemirror_mode": {
    "name": "ipython",
    "version": 3
   },
   "file_extension": ".py",
   "mimetype": "text/x-python",
   "name": "python",
   "nbconvert_exporter": "python",
   "pygments_lexer": "ipython3",
   "version": "3.5.3"
  }
 },
 "nbformat": 4,
 "nbformat_minor": 1
}
